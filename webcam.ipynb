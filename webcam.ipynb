{
 "cells": [
  {
   "cell_type": "code",
   "execution_count": 18,
   "metadata": {},
   "outputs": [],
   "source": [
    "import requests\n",
    "import time\n",
    "\n",
    "def timestamp():\n",
    "    t = time.localtime()\n",
    "    stamp = '%d-%02d-%02d-%02d%02d%02d' % (t.tm_year, t.tm_mon, t.tm_mday, t.tm_hour, t.tm_min, t.tm_sec)\n",
    "    return stamp\n",
    "\n",
    "\n",
    "url = 'http://joyinstech.iptime.org:30000/snapshot.cgi?user=admin&pwd=qqqq1111'\n",
    "url_get = requests.get(url)\n",
    "localfile = 'webcam_screenshot/{}.jpg'.format(timestamp())\n",
    "with open(localfile, 'wb') as f:\n",
    "    f.write(url_get.content)\n",
    "    f.close()\n"
   ]
  }
 ],
 "metadata": {
  "kernelspec": {
   "display_name": "Python 3",
   "language": "python",
   "name": "python3"
  },
  "language_info": {
   "codemirror_mode": {
    "name": "ipython",
    "version": 3
   },
   "file_extension": ".py",
   "mimetype": "text/x-python",
   "name": "python",
   "nbconvert_exporter": "python",
   "pygments_lexer": "ipython3",
   "version": "3.7.6"
  }
 },
 "nbformat": 4,
 "nbformat_minor": 4
}
